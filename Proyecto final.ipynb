{
 "cells": [
  {
   "cell_type": "markdown",
   "id": "b5675b88",
   "metadata": {},
   "source": [
    "# <p class='alert alert-info'>Proyecto final</p>"
   ]
  },
  {
   "cell_type": "code",
   "execution_count": 1,
   "id": "0b31e159",
   "metadata": {
    "ExecuteTime": {
     "end_time": "2021-11-14T17:24:08.982869Z",
     "start_time": "2021-11-14T17:23:56.559665Z"
    }
   },
   "outputs": [],
   "source": [
    "###\n",
    "# Importaciones\n",
    "###\n",
    "# Data\n",
    "import pandas as pd\n",
    "import numpy as np"
   ]
  },
  {
   "cell_type": "code",
   "execution_count": 2,
   "id": "b539aa9b",
   "metadata": {
    "ExecuteTime": {
     "end_time": "2021-11-14T17:24:15.478518Z",
     "start_time": "2021-11-14T17:24:15.471790Z"
    }
   },
   "outputs": [
    {
     "name": "stdout",
     "output_type": "stream",
     "text": [
      "¡Hola, Proyecto Final del Curso!\n"
     ]
    }
   ],
   "source": [
    "print(\"¡Hola, Proyecto Final del Curso!\")"
   ]
  },
  {
   "cell_type": "code",
   "execution_count": null,
   "id": "a95851bc",
   "metadata": {},
   "outputs": [],
   "source": []
  }
 ],
 "metadata": {
  "kernelspec": {
   "display_name": "Python 3 (ipykernel)",
   "language": "python",
   "name": "python3"
  },
  "language_info": {
   "codemirror_mode": {
    "name": "ipython",
    "version": 3
   },
   "file_extension": ".py",
   "mimetype": "text/x-python",
   "name": "python",
   "nbconvert_exporter": "python",
   "pygments_lexer": "ipython3",
   "version": "3.9.7"
  }
 },
 "nbformat": 4,
 "nbformat_minor": 5
}
