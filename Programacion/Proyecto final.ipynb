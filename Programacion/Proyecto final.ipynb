{
 "cells": [
  {
   "cell_type": "markdown",
   "metadata": {},
   "source": [
    "# <p class='alert alert-info'>Proyecto final</p>"
   ]
  },
  {
   "cell_type": "markdown",
   "metadata": {},
   "source": [
    "## <p class='alert alert-info'>Importación de librerías</p>"
   ]
  },
  {
   "cell_type": "code",
   "execution_count": 1,
   "metadata": {
    "ExecuteTime": {
     "end_time": "2021-11-22T05:34:05.155101Z",
     "start_time": "2021-11-22T05:33:56.148797Z"
    }
   },
   "outputs": [
    {
     "ename": "ModuleNotFoundError",
     "evalue": "No module named 'geocoder'",
     "output_type": "error",
     "traceback": [
      "\u001b[0;31m---------------------------------------------------------------------------\u001b[0m",
      "\u001b[0;31mModuleNotFoundError\u001b[0m                       Traceback (most recent call last)",
      "\u001b[0;32m<ipython-input-1-0acf70681a4f>\u001b[0m in \u001b[0;36m<module>\u001b[0;34m\u001b[0m\n\u001b[1;32m     10\u001b[0m \u001b[0;32mfrom\u001b[0m \u001b[0mbs4\u001b[0m \u001b[0;32mimport\u001b[0m \u001b[0mBeautifulSoup\u001b[0m\u001b[0;34m\u001b[0m\u001b[0;34m\u001b[0m\u001b[0m\n\u001b[1;32m     11\u001b[0m \u001b[0;31m# Mapas\u001b[0m\u001b[0;34m\u001b[0m\u001b[0;34m\u001b[0m\u001b[0;34m\u001b[0m\u001b[0m\n\u001b[0;32m---> 12\u001b[0;31m \u001b[0;32mimport\u001b[0m \u001b[0mgeocoder\u001b[0m\u001b[0;34m\u001b[0m\u001b[0;34m\u001b[0m\u001b[0m\n\u001b[0m\u001b[1;32m     13\u001b[0m \u001b[0;32mfrom\u001b[0m \u001b[0mgeopy\u001b[0m\u001b[0;34m.\u001b[0m\u001b[0mgeocoders\u001b[0m \u001b[0;32mimport\u001b[0m \u001b[0mNominatim\u001b[0m\u001b[0;34m\u001b[0m\u001b[0;34m\u001b[0m\u001b[0m\n\u001b[1;32m     14\u001b[0m \u001b[0;32mimport\u001b[0m \u001b[0mfolium\u001b[0m\u001b[0;34m\u001b[0m\u001b[0;34m\u001b[0m\u001b[0m\n",
      "\u001b[0;31mModuleNotFoundError\u001b[0m: No module named 'geocoder'"
     ]
    }
   ],
   "source": [
    "###\n",
    "# Importaciones\n",
    "###\n",
    "# Data\n",
    "import pandas as pd\n",
    "import numpy as np\n",
    "# Request\n",
    "import requests\n",
    "# Scrapper\n",
    "from bs4 import BeautifulSoup\n",
    "# Mapas\n",
    "import geocoder\n",
    "from geopy.geocoders import Nominatim\n",
    "import folium"
   ]
  },
  {
   "cell_type": "markdown",
   "metadata": {},
   "source": [
    "## <p class='alert alert-info'>Obtención de datos</p>"
   ]
  },
  {
   "cell_type": "code",
   "execution_count": null,
   "metadata": {
    "ExecuteTime": {
     "end_time": "2021-11-22T05:34:05.161181Z",
     "start_time": "2021-11-22T05:33:56.475Z"
    }
   },
   "outputs": [],
   "source": [
    "# Obtener la página web\n",
    "URL = 'https://en.wikipedia.org/wiki/List_of_postal_codes_of_Canada:_M'\n",
    "page = requests.get(URL)\n",
    "soup = BeautifulSoup(page.content, \"html.parser\")\n",
    "tables = soup.find_all(\"table\") # Obtenemos los elementos del texto html que contengan la etiqueta table"
   ]
  },
  {
   "cell_type": "code",
   "execution_count": null,
   "metadata": {
    "ExecuteTime": {
     "end_time": "2021-11-22T05:34:05.171124Z",
     "start_time": "2021-11-22T05:33:56.643Z"
    }
   },
   "outputs": [],
   "source": [
    "toronto_postal_codes = pd.DataFrame({'PostalCode':[],\n",
    "                                     'Borough':[],\n",
    "                                     'Neighborhood':[]}) # Declaramos el DF\n",
    "for index,table in enumerate(tables): # Si hay más elemento en el html que sean table, iteramos\n",
    "    for td in table.find_all(\"td\"): # De la etiqueta table buscamos las etiquetas td\n",
    "        text = td.find(\"span\").get_text() # Obtenemos el texto que esta dentro de span\n",
    "        if \"Not assigned\" not in text: # Evitamos los no asignados\n",
    "            postal_code = td.find('b').get_text()\n",
    "            borough = text.split('(')[0]\n",
    "            text = text.split('(')[1].replace(')','')# Limpiamos la cadena quitando los ()\n",
    "            lista_vecindarios = text.split('/') # Romper la cadena\n",
    "            if len(lista_vecindarios) > 1:\n",
    "                neighborhoods = ', '.join(lista_vecindarios)\n",
    "            else:\n",
    "                neighborhoods = lista_vecindarios[0]\n",
    "            toronto_postal_codes = toronto_postal_codes.append({'PostalCode':postal_code,\n",
    "                                                                'Borough':borough,\n",
    "                                                                'Neighborhood':neighborhoods},\n",
    "                                                               ignore_index=True) # Guardamos el DF\n",
    "    break # Rompemos a la primer iteración de los elementos table, ya que el primero es el que nos interesas"
   ]
  },
  {
   "cell_type": "markdown",
   "metadata": {},
   "source": [
    "## <p class='alert alert-info'>DataFrame resultante</p>"
   ]
  },
  {
   "cell_type": "code",
   "execution_count": null,
   "metadata": {
    "ExecuteTime": {
     "end_time": "2021-11-22T05:34:05.174998Z",
     "start_time": "2021-11-22T05:33:56.987Z"
    }
   },
   "outputs": [],
   "source": [
    "toronto_postal_codes.sort_values(by='PostalCode')"
   ]
  },
  {
   "cell_type": "markdown",
   "metadata": {},
   "source": [
    "## <p class='alert alert-info'>DataFrame resultante</p>"
   ]
  },
  {
   "cell_type": "code",
   "execution_count": null,
   "metadata": {
    "ExecuteTime": {
     "end_time": "2021-11-22T05:34:05.180856Z",
     "start_time": "2021-11-22T05:33:57.340Z"
    }
   },
   "outputs": [],
   "source": [
    "# Enriqueciendo el DF con la latitud y longitud.\n",
    "# Metodo API\n",
    "\"\"\"lista_latidud = []\n",
    "lista_longitud = []\n",
    "for row in toronto_postal_codes.iterrows():\n",
    "    print(row['PostalCode'])\n",
    "    g = geocoder.google(f\"{row['PostalCode']} , Toronto, Ontario\")\n",
    "    lat_lng_coords = g.latlng\n",
    "    lista_latidud.append(lat_lng_coords[0])\n",
    "    lista_longitud.append(lat_lng_coords[1])\n",
    "toronto_postal_codes['Latitude'] = lista_latidud\n",
    "toronto_postal_codes['Longitude'] = lista_longitud\"\"\"\n",
    "# Metodo archivo\n",
    "coordenadas = pd.read_csv(\"Geospatial_Coordinates.csv\")\n",
    "toronto_postal_codes = pd.merge(toronto_postal_codes,coordenadas,left_on='PostalCode',right_on='Postal Code',how='inner')\n",
    "toronto_postal_codes"
   ]
  },
  {
   "cell_type": "markdown",
   "metadata": {},
   "source": [
    "## <p class='alert alert-info'>Mapas de Toronto</p>"
   ]
  },
  {
   "cell_type": "code",
   "execution_count": null,
   "metadata": {
    "ExecuteTime": {
     "end_time": "2021-11-22T05:34:05.184874Z",
     "start_time": "2021-11-22T05:33:57.699Z"
    }
   },
   "outputs": [],
   "source": [
    "address = 'Toronto, Ontario'\n",
    "\n",
    "geolocator = Nominatim(user_agent=\"ny_explorer\")\n",
    "location = geolocator.geocode(address)\n",
    "latitude = location.latitude\n",
    "longitude = location.longitude\n",
    "print('The geograpical coordinate of Toronto Ontario are {}, {}.'.format(latitude, longitude))"
   ]
  },
  {
   "cell_type": "code",
   "execution_count": null,
   "metadata": {
    "ExecuteTime": {
     "end_time": "2021-11-22T05:34:05.187745Z",
     "start_time": "2021-11-22T05:33:57.949Z"
    }
   },
   "outputs": [],
   "source": [
    "# crear un mapa de Nueva York utilizando los valores de latitud y longitud\n",
    "map_canada = folium.Map(location=[latitude, longitude], zoom_start=10)\n",
    "\n",
    "# añadir marcadores al mapa\n",
    "for lat, lng, borough, neighborhood in zip(toronto_postal_codes['Latitude'], toronto_postal_codes['Longitude'], toronto_postal_codes['Borough'], toronto_postal_codes['Neighborhood']):\n",
    "    label = '{}, {}'.format(neighborhood, borough)\n",
    "    label = folium.Popup(label, parse_html=True)\n",
    "    folium.CircleMarker(\n",
    "        [lat, lng],\n",
    "        radius=5,\n",
    "        popup=label,\n",
    "        color='blue',\n",
    "        fill=True,\n",
    "        fill_color='#3186cc',\n",
    "        fill_opacity=0.7,\n",
    "        parse_html=False).add_to(map_canada)  \n",
    "    \n",
    "map_newyork"
   ]
  },
  {
   "cell_type": "code",
   "execution_count": null,
   "metadata": {},
   "outputs": [],
   "source": []
  }
 ],
 "metadata": {
  "kernelspec": {
   "display_name": "Python 3",
   "language": "python",
   "name": "python3"
  },
  "language_info": {
   "codemirror_mode": {
    "name": "ipython",
    "version": 3
   },
   "file_extension": ".py",
   "mimetype": "text/x-python",
   "name": "python",
   "nbconvert_exporter": "python",
   "pygments_lexer": "ipython3",
   "version": "3.7.4"
  }
 },
 "nbformat": 4,
 "nbformat_minor": 5
}
