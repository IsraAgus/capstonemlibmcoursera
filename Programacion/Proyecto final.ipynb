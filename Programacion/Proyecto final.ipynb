{
 "cells": [
  {
   "cell_type": "markdown",
   "id": "09473431",
   "metadata": {},
   "source": [
    "# <p class='alert alert-info'>Proyecto final</p>"
   ]
  },
  {
   "cell_type": "markdown",
   "id": "32be81fd",
   "metadata": {},
   "source": [
    "## <p class='alert alert-warning'>Introducción: </p>"
   ]
  },
  {
   "cell_type": "markdown",
   "id": "495cc6ac",
   "metadata": {},
   "source": [
    "<p>En ester proyecto final se tratará de resolver la problemática de encontrar localizar una ubicación adecuada para construir un nuevo hotel. Como en el documento informativo se explica, la inteción es poder crear ubicaciones semejantes a nuestra ubicación deseada. <p>"
   ]
  },
  {
   "cell_type": "markdown",
   "id": "5eee6018",
   "metadata": {},
   "source": [
    "## <p class='alert alert-info'>Importación de librerías</p>"
   ]
  },
  {
   "cell_type": "code",
   "execution_count": 1,
   "id": "bb56f6da",
   "metadata": {
    "ExecuteTime": {
     "end_time": "2021-11-23T03:10:08.482217Z",
     "start_time": "2021-11-23T03:10:05.514545Z"
    }
   },
   "outputs": [],
   "source": [
    "###\n",
    "# Importaciones\n",
    "###\n",
    "# Data\n",
    "import pandas as pd\n",
    "import numpy as np\n",
    "from pandas.io.json import json_normalize\n",
    "# Request\n",
    "import requests\n",
    "# Scrapper\n",
    "from bs4 import BeautifulSoup\n",
    "# Mapas\n",
    "import geocoder\n",
    "from geopy.geocoders import Nominatim\n",
    "import folium\n",
    "# POST - GET request\n",
    "import requests # librería para manejar solicitudes\n",
    "# Machine Learning"
   ]
  },
  {
   "cell_type": "markdown",
   "id": "9765bf28",
   "metadata": {},
   "source": [
    "## <p class='alert alert-info'>Obtención de datos</p>"
   ]
  },
  {
   "cell_type": "code",
   "execution_count": null,
   "id": "bb3f634b",
   "metadata": {
    "ExecuteTime": {
     "end_time": "2021-11-23T03:10:13.861149Z",
     "start_time": "2021-11-23T03:10:13.478618Z"
    }
   },
   "outputs": [],
   "source": []
  },
  {
   "cell_type": "code",
   "execution_count": null,
   "id": "722b44f5",
   "metadata": {
    "ExecuteTime": {
     "end_time": "2021-11-23T03:10:14.418982Z",
     "start_time": "2021-11-23T03:10:14.128267Z"
    }
   },
   "outputs": [],
   "source": []
  },
  {
   "cell_type": "markdown",
   "id": "d7327ed2",
   "metadata": {},
   "source": [
    "## <p class='alert alert-info'>DataFrame resultante</p>"
   ]
  },
  {
   "cell_type": "code",
   "execution_count": null,
   "id": "539699e6",
   "metadata": {
    "ExecuteTime": {
     "end_time": "2021-11-23T03:10:15.720801Z",
     "start_time": "2021-11-23T03:10:15.631104Z"
    }
   },
   "outputs": [],
   "source": []
  },
  {
   "cell_type": "markdown",
   "id": "ee88d111",
   "metadata": {},
   "source": [
    "## <p class='alert alert-info'>DataFrame resultante</p>"
   ]
  },
  {
   "cell_type": "code",
   "execution_count": null,
   "id": "2c2df6d4",
   "metadata": {
    "ExecuteTime": {
     "end_time": "2021-11-23T03:10:36.288771Z",
     "start_time": "2021-11-23T03:10:36.249148Z"
    }
   },
   "outputs": [],
   "source": []
  },
  {
   "cell_type": "markdown",
   "id": "2b8fac1d",
   "metadata": {},
   "source": [
    "## <p class='alert alert-info'>Mapas de Toronto</p>"
   ]
  },
  {
   "cell_type": "code",
   "execution_count": null,
   "id": "67abdd03",
   "metadata": {
    "ExecuteTime": {
     "end_time": "2021-11-23T03:10:40.367842Z",
     "start_time": "2021-11-23T03:10:39.662527Z"
    }
   },
   "outputs": [],
   "source": []
  },
  {
   "cell_type": "code",
   "execution_count": null,
   "id": "404060af",
   "metadata": {
    "ExecuteTime": {
     "end_time": "2021-11-23T03:10:53.348215Z",
     "start_time": "2021-11-23T03:10:53.138785Z"
    }
   },
   "outputs": [],
   "source": []
  },
  {
   "cell_type": "code",
   "execution_count": null,
   "id": "3dda7116",
   "metadata": {},
   "outputs": [],
   "source": []
  }
 ],
 "metadata": {
  "kernelspec": {
   "display_name": "Python 3 (ipykernel)",
   "language": "python",
   "name": "python3"
  },
  "language_info": {
   "codemirror_mode": {
    "name": "ipython",
    "version": 3
   },
   "file_extension": ".py",
   "mimetype": "text/x-python",
   "name": "python",
   "nbconvert_exporter": "python",
   "pygments_lexer": "ipython3",
   "version": "3.9.7"
  }
 },
 "nbformat": 4,
 "nbformat_minor": 5
}
